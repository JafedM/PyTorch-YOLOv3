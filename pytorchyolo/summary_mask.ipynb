{
 "cells": [
  {
   "cell_type": "markdown",
   "metadata": {},
   "source": [
    "# Import the project"
   ]
  },
  {
   "cell_type": "code",
   "execution_count": 1,
   "metadata": {},
   "outputs": [],
   "source": [
    "from detect import *\n",
    "\n",
    "from torchsummary import summary"
   ]
  },
  {
   "cell_type": "markdown",
   "metadata": {},
   "source": [
    "# Some functions"
   ]
  },
  {
   "cell_type": "code",
   "execution_count": 2,
   "metadata": {},
   "outputs": [],
   "source": [
    "def _draw_and_save_output_images(img_detections, imgs, img_size, output_path, classes):\n",
    "    \"\"\"Draws detections in output images and stores them.\n",
    "\n",
    "    :param img_detections: List of detections\n",
    "    :type img_detections: [Tensor]\n",
    "    :param imgs: List of paths to image files\n",
    "    :type imgs: [str]\n",
    "    :param img_size: Size of each image dimension for yolo\n",
    "    :type img_size: int\n",
    "    :param output_path: Path of output directory\n",
    "    :type output_path: str\n",
    "    :param classes: List of class names\n",
    "    :type classes: [str]\n",
    "    \"\"\"\n",
    "\n",
    "    # Iterate through images and save plot of detections\n",
    "    for (image_path, detections) in zip(imgs, img_detections):\n",
    "        print(f\"Image {image_path}:\")\n",
    "        _draw_and_save_output_image(\n",
    "            image_path, detections, img_size, output_path, classes)\n",
    "\n",
    "\n",
    "def _draw_and_save_output_image(image_path, detections, img_size, output_path, classes):\n",
    "    \"\"\"Draws detections in output image and stores this.\n",
    "\n",
    "    :param image_path: Path to input image\n",
    "    :type image_path: str\n",
    "    :param detections: List of detections on image\n",
    "    :type detections: [Tensor]\n",
    "    :param img_size: Size of each image dimension for yolo\n",
    "    :type img_size: int\n",
    "    :param output_path: Path of output directory\n",
    "    :type output_path: str\n",
    "    :param classes: List of class names\n",
    "    :type classes: [str]\n",
    "    \"\"\"\n",
    "    # Create plot\n",
    "    img = np.array(Image.open(image_path))\n",
    "    plt.figure()\n",
    "    fig, ax = plt.subplots(1)\n",
    "    ax.imshow(img)\n",
    "    # Rescale boxes to original image\n",
    "    detections = rescale_boxes(detections, img_size, img.shape[:2])\n",
    "    unique_labels = detections[:, -1].cpu().unique()\n",
    "    n_cls_preds = len(unique_labels)\n",
    "    # Bounding-box colors\n",
    "    cmap = plt.get_cmap(\"tab20b\")\n",
    "    colors = [cmap(i) for i in np.linspace(0, 1, n_cls_preds)]\n",
    "    bbox_colors = random.sample(colors, n_cls_preds)\n",
    "    for x1, y1, x2, y2, conf, cls_pred in detections:\n",
    "\n",
    "        print(f\"\\t+ Label: {classes[int(cls_pred)]} | Confidence: {conf.item():0.4f}\")\n",
    "\n",
    "        box_w = x2 - x1\n",
    "        box_h = y2 - y1\n",
    "\n",
    "        color = bbox_colors[int(np.where(unique_labels == int(cls_pred))[0])]\n",
    "        # Create a Rectangle patch\n",
    "        bbox = patches.Rectangle((x1, y1), box_w, box_h, linewidth=2, edgecolor=color, facecolor=\"none\")\n",
    "        # Add the bbox to the plot\n",
    "        ax.add_patch(bbox)\n",
    "        # Add label\n",
    "        plt.text(\n",
    "            x1,\n",
    "            y1,\n",
    "            s=f\"{classes[int(cls_pred)]}: {conf:.2f}\",\n",
    "            color=\"white\",\n",
    "            verticalalignment=\"top\",\n",
    "            bbox={\"color\": color, \"pad\": 0})\n",
    "\n",
    "    # Save generated image with detections\n",
    "    plt.axis(\"off\")\n",
    "    plt.gca().xaxis.set_major_locator(NullLocator())\n",
    "    plt.gca().yaxis.set_major_locator(NullLocator())\n",
    "    filename = os.path.basename(image_path).split(\".\")[0]\n",
    "    output_path = os.path.join(output_path, f\"{filename}.png\")\n",
    "    plt.savefig(output_path, bbox_inches=\"tight\", pad_inches=0.0)\n",
    "    plt.close()\n",
    "\n",
    "\n",
    "def _create_data_loader(img_path, batch_size, img_size, n_cpu):\n",
    "    \"\"\"Creates a DataLoader for inferencing.\n",
    "\n",
    "    :param img_path: Path to file containing all paths to validation images.\n",
    "    :type img_path: str\n",
    "    :param batch_size: Size of each image batch\n",
    "    :type batch_size: int\n",
    "    :param img_size: Size of each image dimension for yolo\n",
    "    :type img_size: int\n",
    "    :param n_cpu: Number of cpu threads to use during batch generation\n",
    "    :type n_cpu: int\n",
    "    :return: Returns DataLoader\n",
    "    :rtype: DataLoader\n",
    "    \"\"\"\n",
    "    dataset = ImageFolder(\n",
    "        img_path,\n",
    "        transform=transforms.Compose([DEFAULT_TRANSFORMS, Resize(img_size)]))\n",
    "    dataloader = DataLoader(\n",
    "        dataset,\n",
    "        batch_size=batch_size,\n",
    "        shuffle=False,\n",
    "        num_workers=n_cpu,\n",
    "        pin_memory=True)\n",
    "    return dataloader"
   ]
  },
  {
   "cell_type": "markdown",
   "metadata": {},
   "source": [
    "# Arguments"
   ]
  },
  {
   "cell_type": "code",
   "execution_count": 3,
   "metadata": {},
   "outputs": [
    {
     "name": "stdout",
     "output_type": "stream",
     "text": [
      "Command line arguments: Namespace(model='../config/yolomask.cfg', weights='../weights/darknet53.conv.74', images='../data/samples', classes='../data/coco.names', output='../output_mask', batch_size=1, img_size=416, n_cpu=8, conf_thres=0.5, nms_thres=0.4)\n"
     ]
    }
   ],
   "source": [
    "parser = argparse.ArgumentParser(description=\"Detect objects on images.\")\n",
    "parser.add_argument(\"-m\", \"--model\", type=str, default=\"../config/yolomask.cfg\", help=\"Path to model definition file (.cfg)\")\n",
    "parser.add_argument(\"-w\", \"--weights\", type=str, default=\"../weights/darknet53.conv.74\", help=\"Path to weights or checkpoint file (.weights or .pth)\")\n",
    "parser.add_argument(\"-i\", \"--images\", type=str, default=\"../data/samples\", help=\"Path to directory with images to inference\")\n",
    "parser.add_argument(\"-c\", \"--classes\", type=str, default=\"../data/coco.names\", help=\"Path to classes label file (.names)\")\n",
    "parser.add_argument(\"-o\", \"--output\", type=str, default=\"../output_mask\", help=\"Path to output directory\")\n",
    "parser.add_argument(\"-b\", \"--batch_size\", type=int, default=1, help=\"Size of each image batch\")\n",
    "parser.add_argument(\"--img_size\", type=int, default=416, help=\"Size of each image dimension for yolo\")\n",
    "parser.add_argument(\"--n_cpu\", type=int, default=8, help=\"Number of cpu threads to use during batch generation\")\n",
    "parser.add_argument(\"--conf_thres\", type=float, default=0.5, help=\"Object confidence threshold\")\n",
    "parser.add_argument(\"--nms_thres\", type=float, default=0.4, help=\"IOU threshold for non-maximum suppression\")\n",
    "args, unknown = parser.parse_known_args()\n",
    "print(f\"Command line arguments: {args}\")"
   ]
  },
  {
   "cell_type": "code",
   "execution_count": 4,
   "metadata": {},
   "outputs": [],
   "source": [
    "model_path      = args.model\n",
    "\n",
    "img_path        = args.images\n",
    "classes         = load_classes(args.classes)\n",
    "output_path     = args.output\n",
    "batch_size      = args.batch_size\n",
    "img_size        = args.img_size\n",
    "n_cpu           = args.n_cpu\n",
    "conf_thres      = args.conf_thres\n",
    "nms_thres       = args.nms_thres"
   ]
  },
  {
   "cell_type": "markdown",
   "metadata": {},
   "source": [
    "# Model summary"
   ]
  },
  {
   "cell_type": "code",
   "execution_count": null,
   "metadata": {},
   "outputs": [],
   "source": [
    "weights_path    = \"../weights/yolov3.weights\""
   ]
  },
  {
   "cell_type": "code",
   "execution_count": 64,
   "metadata": {},
   "outputs": [
    {
     "ename": "RuntimeError",
     "evalue": "shape '[256, 128, 3, 3]' is invalid for input of size 196607",
     "output_type": "error",
     "traceback": [
      "\u001b[1;31m---------------------------------------------------------------------------\u001b[0m",
      "\u001b[1;31mRuntimeError\u001b[0m                              Traceback (most recent call last)",
      "\u001b[1;32m~\\AppData\\Local\\Temp\\ipykernel_5032\\1330471315.py\u001b[0m in \u001b[0;36m<module>\u001b[1;34m\u001b[0m\n\u001b[0;32m      1\u001b[0m \u001b[0mdataloader\u001b[0m \u001b[1;33m=\u001b[0m \u001b[0m_create_data_loader\u001b[0m\u001b[1;33m(\u001b[0m\u001b[0mimg_path\u001b[0m\u001b[1;33m,\u001b[0m \u001b[0mbatch_size\u001b[0m\u001b[1;33m,\u001b[0m \u001b[0mimg_size\u001b[0m\u001b[1;33m,\u001b[0m \u001b[0mn_cpu\u001b[0m\u001b[1;33m)\u001b[0m\u001b[1;33m\u001b[0m\u001b[1;33m\u001b[0m\u001b[0m\n\u001b[1;32m----> 2\u001b[1;33m \u001b[0mmodel\u001b[0m \u001b[1;33m=\u001b[0m \u001b[0mload_model\u001b[0m\u001b[1;33m(\u001b[0m\u001b[0mmodel_path\u001b[0m\u001b[1;33m,\u001b[0m \u001b[0mweights_path\u001b[0m\u001b[1;33m)\u001b[0m\u001b[1;33m\u001b[0m\u001b[1;33m\u001b[0m\u001b[0m\n\u001b[0m",
      "\u001b[1;32me:\\Documentos\\Maestria CIMAT\\Proyecto tecnologico\\PyTorch-YOLOv3\\pytorchyolo\\models.py\u001b[0m in \u001b[0;36mload_model\u001b[1;34m(model_path, weights_path)\u001b[0m\n\u001b[0;32m    358\u001b[0m         \u001b[1;32melse\u001b[0m\u001b[1;33m:\u001b[0m\u001b[1;33m\u001b[0m\u001b[1;33m\u001b[0m\u001b[0m\n\u001b[0;32m    359\u001b[0m             \u001b[1;31m# Load darknet weights\u001b[0m\u001b[1;33m\u001b[0m\u001b[1;33m\u001b[0m\u001b[0m\n\u001b[1;32m--> 360\u001b[1;33m             \u001b[0mmodel\u001b[0m\u001b[1;33m.\u001b[0m\u001b[0mload_darknet_weights\u001b[0m\u001b[1;33m(\u001b[0m\u001b[0mweights_path\u001b[0m\u001b[1;33m)\u001b[0m\u001b[1;33m\u001b[0m\u001b[1;33m\u001b[0m\u001b[0m\n\u001b[0m\u001b[0;32m    361\u001b[0m     \u001b[1;32mreturn\u001b[0m \u001b[0mmodel\u001b[0m\u001b[1;33m\u001b[0m\u001b[1;33m\u001b[0m\u001b[0m\n",
      "\u001b[1;32me:\\Documentos\\Maestria CIMAT\\Proyecto tecnologico\\PyTorch-YOLOv3\\pytorchyolo\\models.py\u001b[0m in \u001b[0;36mload_darknet_weights\u001b[1;34m(self, weights_path)\u001b[0m\n\u001b[0;32m    301\u001b[0m                 \u001b[1;31m# Load conv. weights\u001b[0m\u001b[1;33m\u001b[0m\u001b[1;33m\u001b[0m\u001b[0m\n\u001b[0;32m    302\u001b[0m                 \u001b[0mnum_w\u001b[0m \u001b[1;33m=\u001b[0m \u001b[0mconv_layer\u001b[0m\u001b[1;33m.\u001b[0m\u001b[0mweight\u001b[0m\u001b[1;33m.\u001b[0m\u001b[0mnumel\u001b[0m\u001b[1;33m(\u001b[0m\u001b[1;33m)\u001b[0m\u001b[1;33m\u001b[0m\u001b[1;33m\u001b[0m\u001b[0m\n\u001b[1;32m--> 303\u001b[1;33m                 conv_w = torch.from_numpy(\n\u001b[0m\u001b[0;32m    304\u001b[0m                     weights[ptr: ptr + num_w]).view_as(conv_layer.weight)\n\u001b[0;32m    305\u001b[0m                 \u001b[0mconv_layer\u001b[0m\u001b[1;33m.\u001b[0m\u001b[0mweight\u001b[0m\u001b[1;33m.\u001b[0m\u001b[0mdata\u001b[0m\u001b[1;33m.\u001b[0m\u001b[0mcopy_\u001b[0m\u001b[1;33m(\u001b[0m\u001b[0mconv_w\u001b[0m\u001b[1;33m)\u001b[0m\u001b[1;33m\u001b[0m\u001b[1;33m\u001b[0m\u001b[0m\n",
      "\u001b[1;31mRuntimeError\u001b[0m: shape '[256, 128, 3, 3]' is invalid for input of size 196607"
     ]
    }
   ],
   "source": [
    "dataloader = _create_data_loader(img_path, batch_size, img_size, n_cpu)\n",
    "model = load_model(model_path, weights_path)"
   ]
  },
  {
   "cell_type": "markdown",
   "metadata": {},
   "source": [
    "Esto da un error ya que al trata de cargar los pesos de yolov3 no concuerda el tamano porque estos no tienen las mascaras.\n",
    "\n",
    "\n",
    "Por lo tanto se tiene que cargar el modelo solo con los pesos de la darknet"
   ]
  },
  {
   "cell_type": "code",
   "execution_count": 5,
   "metadata": {},
   "outputs": [],
   "source": [
    "weights_path    = \"../weights/darknet53.conv.74\""
   ]
  },
  {
   "cell_type": "code",
   "execution_count": 6,
   "metadata": {},
   "outputs": [],
   "source": [
    "dataloader = _create_data_loader(img_path, batch_size, img_size, n_cpu)\n",
    "model = load_model(model_path, weights_path)"
   ]
  },
  {
   "cell_type": "code",
   "execution_count": 7,
   "metadata": {},
   "outputs": [
    {
     "name": "stdout",
     "output_type": "stream",
     "text": [
      "----------------------------------------------------------------\n",
      "        Layer (type)               Output Shape         Param #\n",
      "================================================================\n",
      "            Conv2d-1         [-1, 32, 416, 416]             864\n",
      "       BatchNorm2d-2         [-1, 32, 416, 416]              64\n",
      "         LeakyReLU-3         [-1, 32, 416, 416]               0\n",
      "            Conv2d-4         [-1, 64, 208, 208]          18,432\n",
      "       BatchNorm2d-5         [-1, 64, 208, 208]             128\n",
      "         LeakyReLU-6         [-1, 64, 208, 208]               0\n",
      "            Conv2d-7         [-1, 32, 208, 208]           2,048\n",
      "       BatchNorm2d-8         [-1, 32, 208, 208]              64\n",
      "         LeakyReLU-9         [-1, 32, 208, 208]               0\n",
      "           Conv2d-10         [-1, 64, 208, 208]          18,432\n",
      "      BatchNorm2d-11         [-1, 64, 208, 208]             128\n",
      "        LeakyReLU-12         [-1, 64, 208, 208]               0\n",
      "           Conv2d-13        [-1, 128, 104, 104]          73,728\n",
      "      BatchNorm2d-14        [-1, 128, 104, 104]             256\n",
      "        LeakyReLU-15        [-1, 128, 104, 104]               0\n",
      "           Conv2d-16         [-1, 64, 104, 104]           8,192\n",
      "      BatchNorm2d-17         [-1, 64, 104, 104]             128\n",
      "        LeakyReLU-18         [-1, 64, 104, 104]               0\n",
      "           Conv2d-19        [-1, 128, 104, 104]          73,728\n",
      "      BatchNorm2d-20        [-1, 128, 104, 104]             256\n",
      "        LeakyReLU-21        [-1, 128, 104, 104]               0\n",
      "           Conv2d-22         [-1, 64, 104, 104]           8,192\n",
      "      BatchNorm2d-23         [-1, 64, 104, 104]             128\n",
      "        LeakyReLU-24         [-1, 64, 104, 104]               0\n",
      "           Conv2d-25        [-1, 128, 104, 104]          73,728\n",
      "      BatchNorm2d-26        [-1, 128, 104, 104]             256\n",
      "        LeakyReLU-27        [-1, 128, 104, 104]               0\n",
      "           Conv2d-28          [-1, 256, 52, 52]         294,912\n",
      "      BatchNorm2d-29          [-1, 256, 52, 52]             512\n",
      "        LeakyReLU-30          [-1, 256, 52, 52]               0\n",
      "           Conv2d-31          [-1, 128, 52, 52]          32,768\n",
      "      BatchNorm2d-32          [-1, 128, 52, 52]             256\n",
      "        LeakyReLU-33          [-1, 128, 52, 52]               0\n",
      "           Conv2d-34          [-1, 256, 52, 52]         294,912\n",
      "      BatchNorm2d-35          [-1, 256, 52, 52]             512\n",
      "        LeakyReLU-36          [-1, 256, 52, 52]               0\n",
      "           Conv2d-37          [-1, 128, 52, 52]          32,768\n",
      "      BatchNorm2d-38          [-1, 128, 52, 52]             256\n",
      "        LeakyReLU-39          [-1, 128, 52, 52]               0\n",
      "           Conv2d-40          [-1, 256, 52, 52]         294,912\n",
      "      BatchNorm2d-41          [-1, 256, 52, 52]             512\n",
      "        LeakyReLU-42          [-1, 256, 52, 52]               0\n",
      "           Conv2d-43          [-1, 128, 52, 52]          32,768\n",
      "      BatchNorm2d-44          [-1, 128, 52, 52]             256\n",
      "        LeakyReLU-45          [-1, 128, 52, 52]               0\n",
      "           Conv2d-46          [-1, 256, 52, 52]         294,912\n",
      "      BatchNorm2d-47          [-1, 256, 52, 52]             512\n",
      "        LeakyReLU-48          [-1, 256, 52, 52]               0\n",
      "           Conv2d-49          [-1, 128, 52, 52]          32,768\n",
      "      BatchNorm2d-50          [-1, 128, 52, 52]             256\n",
      "        LeakyReLU-51          [-1, 128, 52, 52]               0\n",
      "           Conv2d-52          [-1, 256, 52, 52]         294,912\n",
      "      BatchNorm2d-53          [-1, 256, 52, 52]             512\n",
      "        LeakyReLU-54          [-1, 256, 52, 52]               0\n",
      "           Conv2d-55          [-1, 128, 52, 52]          32,768\n",
      "      BatchNorm2d-56          [-1, 128, 52, 52]             256\n",
      "        LeakyReLU-57          [-1, 128, 52, 52]               0\n",
      "           Conv2d-58          [-1, 256, 52, 52]         294,912\n",
      "      BatchNorm2d-59          [-1, 256, 52, 52]             512\n",
      "        LeakyReLU-60          [-1, 256, 52, 52]               0\n",
      "           Conv2d-61          [-1, 128, 52, 52]          32,768\n",
      "      BatchNorm2d-62          [-1, 128, 52, 52]             256\n",
      "        LeakyReLU-63          [-1, 128, 52, 52]               0\n",
      "           Conv2d-64          [-1, 256, 52, 52]         294,912\n",
      "      BatchNorm2d-65          [-1, 256, 52, 52]             512\n",
      "        LeakyReLU-66          [-1, 256, 52, 52]               0\n",
      "           Conv2d-67          [-1, 128, 52, 52]          32,768\n",
      "      BatchNorm2d-68          [-1, 128, 52, 52]             256\n",
      "        LeakyReLU-69          [-1, 128, 52, 52]               0\n",
      "           Conv2d-70          [-1, 256, 52, 52]         294,912\n",
      "      BatchNorm2d-71          [-1, 256, 52, 52]             512\n",
      "        LeakyReLU-72          [-1, 256, 52, 52]               0\n",
      "           Conv2d-73          [-1, 128, 52, 52]          32,768\n",
      "      BatchNorm2d-74          [-1, 128, 52, 52]             256\n",
      "        LeakyReLU-75          [-1, 128, 52, 52]               0\n",
      "           Conv2d-76          [-1, 256, 52, 52]         294,912\n",
      "      BatchNorm2d-77          [-1, 256, 52, 52]             512\n",
      "        LeakyReLU-78          [-1, 256, 52, 52]               0\n",
      "           Conv2d-79          [-1, 512, 26, 26]       1,179,648\n",
      "      BatchNorm2d-80          [-1, 512, 26, 26]           1,024\n",
      "        LeakyReLU-81          [-1, 512, 26, 26]               0\n",
      "           Conv2d-82          [-1, 256, 26, 26]         131,072\n",
      "      BatchNorm2d-83          [-1, 256, 26, 26]             512\n",
      "        LeakyReLU-84          [-1, 256, 26, 26]               0\n",
      "           Conv2d-85          [-1, 512, 26, 26]       1,179,648\n",
      "      BatchNorm2d-86          [-1, 512, 26, 26]           1,024\n",
      "        LeakyReLU-87          [-1, 512, 26, 26]               0\n",
      "           Conv2d-88          [-1, 256, 26, 26]         131,072\n",
      "      BatchNorm2d-89          [-1, 256, 26, 26]             512\n",
      "        LeakyReLU-90          [-1, 256, 26, 26]               0\n",
      "           Conv2d-91          [-1, 512, 26, 26]       1,179,648\n",
      "      BatchNorm2d-92          [-1, 512, 26, 26]           1,024\n",
      "        LeakyReLU-93          [-1, 512, 26, 26]               0\n",
      "           Conv2d-94          [-1, 256, 26, 26]         131,072\n",
      "      BatchNorm2d-95          [-1, 256, 26, 26]             512\n",
      "        LeakyReLU-96          [-1, 256, 26, 26]               0\n",
      "           Conv2d-97          [-1, 512, 26, 26]       1,179,648\n",
      "      BatchNorm2d-98          [-1, 512, 26, 26]           1,024\n",
      "        LeakyReLU-99          [-1, 512, 26, 26]               0\n",
      "          Conv2d-100          [-1, 256, 26, 26]         131,072\n",
      "     BatchNorm2d-101          [-1, 256, 26, 26]             512\n",
      "       LeakyReLU-102          [-1, 256, 26, 26]               0\n",
      "          Conv2d-103          [-1, 512, 26, 26]       1,179,648\n",
      "     BatchNorm2d-104          [-1, 512, 26, 26]           1,024\n",
      "       LeakyReLU-105          [-1, 512, 26, 26]               0\n",
      "          Conv2d-106          [-1, 256, 26, 26]         131,072\n",
      "     BatchNorm2d-107          [-1, 256, 26, 26]             512\n",
      "       LeakyReLU-108          [-1, 256, 26, 26]               0\n",
      "          Conv2d-109          [-1, 512, 26, 26]       1,179,648\n",
      "     BatchNorm2d-110          [-1, 512, 26, 26]           1,024\n",
      "       LeakyReLU-111          [-1, 512, 26, 26]               0\n",
      "          Conv2d-112          [-1, 256, 26, 26]         131,072\n",
      "     BatchNorm2d-113          [-1, 256, 26, 26]             512\n",
      "       LeakyReLU-114          [-1, 256, 26, 26]               0\n",
      "          Conv2d-115          [-1, 512, 26, 26]       1,179,648\n",
      "     BatchNorm2d-116          [-1, 512, 26, 26]           1,024\n",
      "       LeakyReLU-117          [-1, 512, 26, 26]               0\n",
      "          Conv2d-118          [-1, 256, 26, 26]         131,072\n",
      "     BatchNorm2d-119          [-1, 256, 26, 26]             512\n",
      "       LeakyReLU-120          [-1, 256, 26, 26]               0\n",
      "          Conv2d-121          [-1, 512, 26, 26]       1,179,648\n",
      "     BatchNorm2d-122          [-1, 512, 26, 26]           1,024\n",
      "       LeakyReLU-123          [-1, 512, 26, 26]               0\n",
      "          Conv2d-124          [-1, 256, 26, 26]         131,072\n",
      "     BatchNorm2d-125          [-1, 256, 26, 26]             512\n",
      "       LeakyReLU-126          [-1, 256, 26, 26]               0\n",
      "          Conv2d-127          [-1, 512, 26, 26]       1,179,648\n",
      "     BatchNorm2d-128          [-1, 512, 26, 26]           1,024\n",
      "       LeakyReLU-129          [-1, 512, 26, 26]               0\n",
      "          Conv2d-130         [-1, 1024, 13, 13]       4,718,592\n",
      "     BatchNorm2d-131         [-1, 1024, 13, 13]           2,048\n",
      "       LeakyReLU-132         [-1, 1024, 13, 13]               0\n",
      "          Conv2d-133          [-1, 512, 13, 13]         524,288\n",
      "     BatchNorm2d-134          [-1, 512, 13, 13]           1,024\n",
      "       LeakyReLU-135          [-1, 512, 13, 13]               0\n",
      "          Conv2d-136         [-1, 1024, 13, 13]       4,718,592\n",
      "     BatchNorm2d-137         [-1, 1024, 13, 13]           2,048\n",
      "       LeakyReLU-138         [-1, 1024, 13, 13]               0\n",
      "          Conv2d-139          [-1, 512, 13, 13]         524,288\n",
      "     BatchNorm2d-140          [-1, 512, 13, 13]           1,024\n",
      "       LeakyReLU-141          [-1, 512, 13, 13]               0\n",
      "          Conv2d-142         [-1, 1024, 13, 13]       4,718,592\n",
      "     BatchNorm2d-143         [-1, 1024, 13, 13]           2,048\n",
      "       LeakyReLU-144         [-1, 1024, 13, 13]               0\n",
      "          Conv2d-145          [-1, 512, 13, 13]         524,288\n",
      "     BatchNorm2d-146          [-1, 512, 13, 13]           1,024\n",
      "       LeakyReLU-147          [-1, 512, 13, 13]               0\n",
      "          Conv2d-148         [-1, 1024, 13, 13]       4,718,592\n",
      "     BatchNorm2d-149         [-1, 1024, 13, 13]           2,048\n",
      "       LeakyReLU-150         [-1, 1024, 13, 13]               0\n",
      "          Conv2d-151          [-1, 512, 13, 13]         524,288\n",
      "     BatchNorm2d-152          [-1, 512, 13, 13]           1,024\n",
      "       LeakyReLU-153          [-1, 512, 13, 13]               0\n",
      "          Conv2d-154         [-1, 1024, 13, 13]       4,718,592\n",
      "     BatchNorm2d-155         [-1, 1024, 13, 13]           2,048\n",
      "       LeakyReLU-156         [-1, 1024, 13, 13]               0\n",
      "          Conv2d-157          [-1, 512, 13, 13]         524,288\n",
      "     BatchNorm2d-158          [-1, 512, 13, 13]           1,024\n",
      "       LeakyReLU-159          [-1, 512, 13, 13]               0\n",
      "          Conv2d-160         [-1, 1024, 13, 13]       4,718,592\n",
      "     BatchNorm2d-161         [-1, 1024, 13, 13]           2,048\n",
      "       LeakyReLU-162         [-1, 1024, 13, 13]               0\n",
      "          Conv2d-163          [-1, 512, 13, 13]         524,288\n",
      "     BatchNorm2d-164          [-1, 512, 13, 13]           1,024\n",
      "       LeakyReLU-165          [-1, 512, 13, 13]               0\n",
      "          Conv2d-166         [-1, 1024, 13, 13]       4,718,592\n",
      "     BatchNorm2d-167         [-1, 1024, 13, 13]           2,048\n",
      "       LeakyReLU-168         [-1, 1024, 13, 13]               0\n",
      "          Conv2d-169          [-1, 512, 13, 13]         524,288\n",
      "     BatchNorm2d-170          [-1, 512, 13, 13]           1,024\n",
      "       LeakyReLU-171          [-1, 512, 13, 13]               0\n",
      "          Conv2d-172         [-1, 1024, 13, 13]       4,718,592\n",
      "     BatchNorm2d-173         [-1, 1024, 13, 13]           2,048\n",
      "       LeakyReLU-174         [-1, 1024, 13, 13]               0\n",
      "          Conv2d-175          [-1, 255, 13, 13]         261,375\n",
      "       YOLOLayer-176        [-1, 3, 13, 13, 85]               0\n",
      "          Conv2d-177          [-1, 256, 13, 13]         262,144\n",
      "     BatchNorm2d-178          [-1, 256, 13, 13]             512\n",
      "       LeakyReLU-179          [-1, 256, 13, 13]               0\n",
      "        Upsample-180          [-1, 256, 26, 26]               0\n",
      "          Conv2d-181          [-1, 256, 26, 26]         196,608\n",
      "     BatchNorm2d-182          [-1, 256, 26, 26]             512\n",
      "       LeakyReLU-183          [-1, 256, 26, 26]               0\n",
      "          Conv2d-184          [-1, 512, 26, 26]       1,179,648\n",
      "     BatchNorm2d-185          [-1, 512, 26, 26]           1,024\n",
      "       LeakyReLU-186          [-1, 512, 26, 26]               0\n",
      "          Conv2d-187          [-1, 256, 26, 26]         131,072\n",
      "     BatchNorm2d-188          [-1, 256, 26, 26]             512\n",
      "       LeakyReLU-189          [-1, 256, 26, 26]               0\n",
      "          Conv2d-190          [-1, 512, 26, 26]       1,179,648\n",
      "     BatchNorm2d-191          [-1, 512, 26, 26]           1,024\n",
      "       LeakyReLU-192          [-1, 512, 26, 26]               0\n",
      "          Conv2d-193          [-1, 256, 26, 26]         131,072\n",
      "     BatchNorm2d-194          [-1, 256, 26, 26]             512\n",
      "       LeakyReLU-195          [-1, 256, 26, 26]               0\n",
      "          Conv2d-196          [-1, 512, 26, 26]       1,179,648\n",
      "     BatchNorm2d-197          [-1, 512, 26, 26]           1,024\n",
      "       LeakyReLU-198          [-1, 512, 26, 26]               0\n",
      "          Conv2d-199          [-1, 255, 26, 26]         130,815\n",
      "       YOLOLayer-200        [-1, 3, 26, 26, 85]               0\n",
      "          Conv2d-201          [-1, 128, 26, 26]          65,536\n",
      "     BatchNorm2d-202          [-1, 128, 26, 26]             256\n",
      "       LeakyReLU-203          [-1, 128, 26, 26]               0\n",
      "        Upsample-204          [-1, 128, 52, 52]               0\n",
      "          Conv2d-205          [-1, 128, 52, 52]          49,152\n",
      "     BatchNorm2d-206          [-1, 128, 52, 52]             256\n",
      "       LeakyReLU-207          [-1, 128, 52, 52]               0\n",
      "          Conv2d-208          [-1, 256, 52, 52]         294,912\n",
      "     BatchNorm2d-209          [-1, 256, 52, 52]             512\n",
      "       LeakyReLU-210          [-1, 256, 52, 52]               0\n",
      "          Conv2d-211          [-1, 128, 52, 52]          32,768\n",
      "     BatchNorm2d-212          [-1, 128, 52, 52]             256\n",
      "       LeakyReLU-213          [-1, 128, 52, 52]               0\n",
      "          Conv2d-214          [-1, 256, 52, 52]         294,912\n",
      "     BatchNorm2d-215          [-1, 256, 52, 52]             512\n",
      "       LeakyReLU-216          [-1, 256, 52, 52]               0\n",
      "          Conv2d-217          [-1, 128, 52, 52]          32,768\n",
      "     BatchNorm2d-218          [-1, 128, 52, 52]             256\n",
      "       LeakyReLU-219          [-1, 128, 52, 52]               0\n",
      "          Conv2d-220          [-1, 256, 52, 52]         294,912\n",
      "     BatchNorm2d-221          [-1, 256, 52, 52]             512\n",
      "       LeakyReLU-222          [-1, 256, 52, 52]               0\n",
      "          Conv2d-223          [-1, 255, 52, 52]          65,535\n",
      "       YOLOLayer-224        [-1, 3, 52, 52, 85]               0\n",
      "         Darknet-225  [[-1, 3, 13, 13, 85], [-1, 3, 26, 26, 85], [-1, 3, 52, 52, 85]]               0\n",
      "================================================================\n",
      "Total params: 62,112,989\n",
      "Trainable params: 62,112,989\n",
      "Non-trainable params: 0\n",
      "----------------------------------------------------------------\n",
      "Input size (MB): 1.98\n",
      "Forward/backward pass size (MB): 13166.66\n",
      "Params size (MB): 236.94\n",
      "Estimated Total Size (MB): 13405.58\n",
      "----------------------------------------------------------------\n",
      "\n"
     ]
    },
    {
     "data": {
      "text/plain": [
       "(tensor(62112989), tensor(62112989))"
      ]
     },
     "execution_count": 7,
     "metadata": {},
     "output_type": "execute_result"
    }
   ],
   "source": [
    "summary(model, input_size=(3, model.hyperparams['height'], model.hyperparams['height']))"
   ]
  },
  {
   "cell_type": "markdown",
   "metadata": {},
   "source": [
    "# Detections"
   ]
  },
  {
   "cell_type": "code",
   "execution_count": 8,
   "metadata": {},
   "outputs": [
    {
     "name": "stderr",
     "output_type": "stream",
     "text": [
      "Detecting:   0%|          | 0/12 [00:00<?, ?it/s]"
     ]
    },
    {
     "name": "stderr",
     "output_type": "stream",
     "text": [
      "Detecting: 100%|██████████| 12/12 [00:13<00:00,  1.17s/it]\n"
     ]
    },
    {
     "name": "stdout",
     "output_type": "stream",
     "text": [
      "Image ../data/samples\\COCo girl.jpg:\n",
      "Image ../data/samples\\dog.jpg:\n",
      "Image ../data/samples\\eagle.jpg:\n",
      "Image ../data/samples\\field.jpg:\n",
      "Image ../data/samples\\giraffe.jpg:\n",
      "Image ../data/samples\\herd_of_horses.jpg:\n",
      "Image ../data/samples\\messi.jpg:\n",
      "Image ../data/samples\\perritos.jpeg:\n",
      "Image ../data/samples\\perro.jpeg:\n",
      "Image ../data/samples\\person.jpg:\n",
      "Image ../data/samples\\room.jpg:\n",
      "Image ../data/samples\\street.jpg:\n",
      "---- Detections were saved to: '../output_mask' ----\n"
     ]
    },
    {
     "data": {
      "text/plain": [
       "<Figure size 640x480 with 0 Axes>"
      ]
     },
     "metadata": {},
     "output_type": "display_data"
    },
    {
     "data": {
      "text/plain": [
       "<Figure size 640x480 with 0 Axes>"
      ]
     },
     "metadata": {},
     "output_type": "display_data"
    },
    {
     "data": {
      "text/plain": [
       "<Figure size 640x480 with 0 Axes>"
      ]
     },
     "metadata": {},
     "output_type": "display_data"
    },
    {
     "data": {
      "text/plain": [
       "<Figure size 640x480 with 0 Axes>"
      ]
     },
     "metadata": {},
     "output_type": "display_data"
    },
    {
     "data": {
      "text/plain": [
       "<Figure size 640x480 with 0 Axes>"
      ]
     },
     "metadata": {},
     "output_type": "display_data"
    },
    {
     "data": {
      "text/plain": [
       "<Figure size 640x480 with 0 Axes>"
      ]
     },
     "metadata": {},
     "output_type": "display_data"
    },
    {
     "data": {
      "text/plain": [
       "<Figure size 640x480 with 0 Axes>"
      ]
     },
     "metadata": {},
     "output_type": "display_data"
    },
    {
     "data": {
      "text/plain": [
       "<Figure size 640x480 with 0 Axes>"
      ]
     },
     "metadata": {},
     "output_type": "display_data"
    },
    {
     "data": {
      "text/plain": [
       "<Figure size 640x480 with 0 Axes>"
      ]
     },
     "metadata": {},
     "output_type": "display_data"
    },
    {
     "data": {
      "text/plain": [
       "<Figure size 640x480 with 0 Axes>"
      ]
     },
     "metadata": {},
     "output_type": "display_data"
    },
    {
     "data": {
      "text/plain": [
       "<Figure size 640x480 with 0 Axes>"
      ]
     },
     "metadata": {},
     "output_type": "display_data"
    },
    {
     "data": {
      "text/plain": [
       "<Figure size 640x480 with 0 Axes>"
      ]
     },
     "metadata": {},
     "output_type": "display_data"
    }
   ],
   "source": [
    "img_detections, imgs = detect(\n",
    "    model,\n",
    "    dataloader,\n",
    "    output_path,\n",
    "    conf_thres,\n",
    "    nms_thres)\n",
    "_draw_and_save_output_images(\n",
    "    img_detections, imgs, img_size, output_path, classes)\n",
    "\n",
    "print(f\"---- Detections were saved to: '{output_path}' ----\")"
   ]
  }
 ],
 "metadata": {
  "kernelspec": {
   "display_name": "ML",
   "language": "python",
   "name": "python3"
  },
  "language_info": {
   "codemirror_mode": {
    "name": "ipython",
    "version": 3
   },
   "file_extension": ".py",
   "mimetype": "text/x-python",
   "name": "python",
   "nbconvert_exporter": "python",
   "pygments_lexer": "ipython3",
   "version": "3.9.15"
  },
  "orig_nbformat": 4
 },
 "nbformat": 4,
 "nbformat_minor": 2
}
